{
 "cells": [
  {
   "cell_type": "markdown",
   "metadata": {},
   "source": [
    "## This notebook is a work in progress.\n",
    "See the corresponding Python notebook for explanation of why we need each step."
   ]
  },
  {
   "cell_type": "code",
   "execution_count": 69,
   "metadata": {},
   "outputs": [],
   "source": [
    "## store api-key globally\n",
    "apikey = '0fa36e42-a7cf-43eb-9511-7729243e10a2'  "
   ]
  },
  {
   "cell_type": "code",
   "execution_count": 70,
   "metadata": {},
   "outputs": [],
   "source": [
    "## load neededd libraries\n",
    "library(httr)\n",
    "library(xml2)"
   ]
  },
  {
   "cell_type": "code",
   "execution_count": 76,
   "metadata": {},
   "outputs": [
    {
     "data": {
      "text/html": [
       "201"
      ],
      "text/latex": [
       "201"
      ],
      "text/markdown": [
       "201"
      ],
      "text/plain": [
       "[1] 201"
      ]
     },
     "metadata": {},
     "output_type": "display_data"
    },
    {
     "data": {
      "text/html": [
       "'text/html;charset=UTF-8'"
      ],
      "text/latex": [
       "'text/html;charset=UTF-8'"
      ],
      "text/markdown": [
       "'text/html;charset=UTF-8'"
      ],
      "text/plain": [
       "[1] \"text/html;charset=UTF-8\""
      ]
     },
     "metadata": {},
     "output_type": "display_data"
    }
   ],
   "source": [
    "## post to the CAS endpoint\n",
    "response <- POST('https://utslogin.nlm.nih.gov/cas/v1/api-key', encode='form', body=list(apikey = apikey))\n",
    "## print out the status_code and content_type\n",
    "status_code(response)\n",
    "headers(response)$`content-type`\n",
    "## store globally so it is available to the next cell\n",
    "globalVariables.response = response    ## must store globally"
   ]
  },
  {
   "cell_type": "markdown",
   "metadata": {},
   "source": [
    "### content is already XML\n",
    "In R, the content of the response is already parsed as an XML/HTML document, so we need only find the form's action attribute using an XPath expression."
   ]
  },
  {
   "cell_type": "code",
   "execution_count": 77,
   "metadata": {},
   "outputs": [
    {
     "data": {
      "text/html": [
       "'https://utslogin.nlm.nih.gov/cas/v1/api-key/TGT-1939862-kccb0GABPeAS6aANBtRlQlSP442XjL1QadLueW2PyES5epUQa9-cas'"
      ],
      "text/latex": [
       "'https://utslogin.nlm.nih.gov/cas/v1/api-key/TGT-1939862-kccb0GABPeAS6aANBtRlQlSP442XjL1QadLueW2PyES5epUQa9-cas'"
      ],
      "text/markdown": [
       "'https://utslogin.nlm.nih.gov/cas/v1/api-key/TGT-1939862-kccb0GABPeAS6aANBtRlQlSP442XjL1QadLueW2PyES5epUQa9-cas'"
      ],
      "text/plain": [
       "[1] \"https://utslogin.nlm.nih.gov/cas/v1/api-key/TGT-1939862-kccb0GABPeAS6aANBtRlQlSP442XjL1QadLueW2PyES5epUQa9-cas\""
      ]
     },
     "metadata": {},
     "output_type": "display_data"
    }
   ],
   "source": [
    "action_uri = xml_text(xml_find_first(content(response), '//form/@action'))\n",
    "action_uri"
   ]
  },
  {
   "cell_type": "code",
   "execution_count": 78,
   "metadata": {},
   "outputs": [
    {
     "data": {
      "text/html": [
       "'ST-16041988-njtbsoa70ubAYpvgJC4d-cas'"
      ],
      "text/latex": [
       "'ST-16041988-njtbsoa70ubAYpvgJC4d-cas'"
      ],
      "text/markdown": [
       "'ST-16041988-njtbsoa70ubAYpvgJC4d-cas'"
      ],
      "text/plain": [
       "[1] \"ST-16041988-njtbsoa70ubAYpvgJC4d-cas\""
      ]
     },
     "metadata": {},
     "output_type": "display_data"
    }
   ],
   "source": [
    "response <- POST(action_uri, encode='form', body=list(service = 'http://umlsks.nlm.nih.gov'))\n",
    "## R tries to automatically guess the body content type, let's tell it this is pure text\n",
    "ticket = content(response, 'text')\n",
    "ticket"
   ]
  },
  {
   "cell_type": "code",
   "execution_count": 79,
   "metadata": {},
   "outputs": [
    {
     "data": {
      "text/html": [
       "'https://uts-ws.nlm.nih.gov/rest/search/current'"
      ],
      "text/latex": [
       "'https://uts-ws.nlm.nih.gov/rest/search/current'"
      ],
      "text/markdown": [
       "'https://uts-ws.nlm.nih.gov/rest/search/current'"
      ],
      "text/plain": [
       "[1] \"https://uts-ws.nlm.nih.gov/rest/search/current\""
      ]
     },
     "metadata": {},
     "output_type": "display_data"
    },
    {
     "data": {
      "text/html": [
       "200"
      ],
      "text/latex": [
       "200"
      ],
      "text/markdown": [
       "200"
      ],
      "text/plain": [
       "[1] 200"
      ]
     },
     "metadata": {},
     "output_type": "display_data"
    },
    {
     "data": {
      "text/html": [
       "'application/json;charset=UTF-8'"
      ],
      "text/latex": [
       "'application/json;charset=UTF-8'"
      ],
      "text/markdown": [
       "'application/json;charset=UTF-8'"
      ],
      "text/plain": [
       "[1] \"application/json;charset=UTF-8\""
      ]
     },
     "metadata": {},
     "output_type": "display_data"
    }
   ],
   "source": [
    "version = 'current'\n",
    "query_string = 'diabetic foot'\n",
    "search_uri = paste('https://uts-ws.nlm.nih.gov/rest/search/', version, sep='')\n",
    "response <- GET(search_uri, query=list(ticket=ticket, string=query_string, searchType='exact'))\n",
    "\n",
    "## print out some of the results\n",
    "search_uri\n",
    "status_code(response)\n",
    "headers(response)$`content-type`"
   ]
  },
  {
   "cell_type": "code",
   "execution_count": 80,
   "metadata": {},
   "outputs": [
    {
     "data": {
      "text/html": [
       "<dl>\n",
       "\t<dt>$pageSize</dt>\n",
       "\t\t<dd>25</dd>\n",
       "\t<dt>$pageNumber</dt>\n",
       "\t\t<dd>1</dd>\n",
       "\t<dt>$result</dt>\n",
       "\t\t<dd><dl>\n",
       "\t<dt>$classType</dt>\n",
       "\t\t<dd>'searchResults'</dd>\n",
       "\t<dt>$results</dt>\n",
       "\t\t<dd><ol>\n",
       "\t<li><dl>\n",
       "\t<dt>$ui</dt>\n",
       "\t\t<dd>'C0206172'</dd>\n",
       "\t<dt>$rootSource</dt>\n",
       "\t\t<dd>'MTH'</dd>\n",
       "\t<dt>$uri</dt>\n",
       "\t\t<dd>'https://uts-ws.nlm.nih.gov/rest/content/2017AB/CUI/C0206172'</dd>\n",
       "\t<dt>$name</dt>\n",
       "\t\t<dd>'Diabetic Foot'</dd>\n",
       "</dl>\n",
       "</li>\n",
       "</ol>\n",
       "</dd>\n",
       "</dl>\n",
       "</dd>\n",
       "</dl>\n"
      ],
      "text/latex": [
       "\\begin{description}\n",
       "\\item[\\$pageSize] 25\n",
       "\\item[\\$pageNumber] 1\n",
       "\\item[\\$result] \\begin{description}\n",
       "\\item[\\$classType] 'searchResults'\n",
       "\\item[\\$results] \\begin{enumerate}\n",
       "\\item \\begin{description}\n",
       "\\item[\\$ui] 'C0206172'\n",
       "\\item[\\$rootSource] 'MTH'\n",
       "\\item[\\$uri] 'https://uts-ws.nlm.nih.gov/rest/content/2017AB/CUI/C0206172'\n",
       "\\item[\\$name] 'Diabetic Foot'\n",
       "\\end{description}\n",
       "\n",
       "\\end{enumerate}\n",
       "\n",
       "\\end{description}\n",
       "\n",
       "\\end{description}\n"
      ],
      "text/markdown": [
       "$pageSize\n",
       ":   25\n",
       "$pageNumber\n",
       ":   1\n",
       "$result\n",
       ":   $classType\n",
       ":   'searchResults'\n",
       "$results\n",
       ":   1. $ui\n",
       ":   'C0206172'\n",
       "$rootSource\n",
       ":   'MTH'\n",
       "$uri\n",
       ":   'https://uts-ws.nlm.nih.gov/rest/content/2017AB/CUI/C0206172'\n",
       "$name\n",
       ":   'Diabetic Foot'\n",
       "\n",
       "\n",
       "\n",
       "\n",
       "\n",
       "\n",
       "\n",
       "\n",
       "\n",
       "\n",
       "\n"
      ],
      "text/plain": [
       "$pageSize\n",
       "[1] 25\n",
       "\n",
       "$pageNumber\n",
       "[1] 1\n",
       "\n",
       "$result\n",
       "$result$classType\n",
       "[1] \"searchResults\"\n",
       "\n",
       "$result$results\n",
       "$result$results[[1]]\n",
       "$result$results[[1]]$ui\n",
       "[1] \"C0206172\"\n",
       "\n",
       "$result$results[[1]]$rootSource\n",
       "[1] \"MTH\"\n",
       "\n",
       "$result$results[[1]]$uri\n",
       "[1] \"https://uts-ws.nlm.nih.gov/rest/content/2017AB/CUI/C0206172\"\n",
       "\n",
       "$result$results[[1]]$name\n",
       "[1] \"Diabetic Foot\"\n",
       "\n",
       "\n",
       "\n"
      ]
     },
     "metadata": {},
     "output_type": "display_data"
    }
   ],
   "source": [
    "content(response)"
   ]
  }
 ],
 "metadata": {
  "kernelspec": {
   "display_name": "R",
   "language": "R",
   "name": "ir"
  },
  "language_info": {
   "codemirror_mode": "r",
   "file_extension": ".r",
   "mimetype": "text/x-r-source",
   "name": "R",
   "pygments_lexer": "r",
   "version": "3.3.2"
  },
  "varInspector": {
   "cols": {
    "lenName": 16,
    "lenType": 16,
    "lenVar": 40
   },
   "kernels_config": {
    "python": {
     "delete_cmd_postfix": "",
     "delete_cmd_prefix": "del ",
     "library": "var_list.py",
     "varRefreshCmd": "print(var_dic_list())"
    },
    "r": {
     "delete_cmd_postfix": ") ",
     "delete_cmd_prefix": "rm(",
     "library": "var_list.r",
     "varRefreshCmd": "cat(var_dic_list()) "
    }
   },
   "position": {
    "height": "144px",
    "left": "860px",
    "right": "20px",
    "top": "120px",
    "width": "350px"
   },
   "types_to_exclude": [
    "module",
    "function",
    "builtin_function_or_method",
    "instance",
    "_Feature"
   ],
   "window_display": false
  }
 },
 "nbformat": 4,
 "nbformat_minor": 2
}
