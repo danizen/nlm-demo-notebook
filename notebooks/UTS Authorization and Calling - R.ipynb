{
 "cells": [
  {
   "cell_type": "markdown",
   "metadata": {},
   "source": [
    "# UTS Authorization and Calling - R\n",
    "This notebook is an example of how to start using the UTS REST API from R"
   ]
  },
  {
   "cell_type": "markdown",
   "metadata": {},
   "source": [
    "## UTS Account\n",
    "If you do not have a UTS account:\n",
    "\n",
    "* You will need to wait for an account to be activated before following this guide.\n",
    "* Create a bookmark of this page, or [click here](#) to schedule a reminder.\n",
    "* Follow this link to Sign-up for a [UTS License](https://uts.nlm.nih.gov/license.html).\n",
    "\n",
    "## UTS API Key\n",
    "You will need your UTS API key.  To obtain your key:\n",
    "\n",
    "* In a new window, open the [UTS login](https://uts.nlm.nih.gov//uts.html) page.\n",
    "* Once you have logged in, click on `My Profile` and copy your API key into the cell below."
   ]
  },
  {
   "cell_type": "code",
   "execution_count": 81,
   "metadata": {},
   "outputs": [],
   "source": [
    "UTS_API_KEY = 'XXXXXXXX-XXXX-XXXX-XXXX-XXXXXXXXXXXX' "
   ]
  },
  {
   "cell_type": "markdown",
   "metadata": {},
   "source": [
    "You'll need to load some libraries, here these are already installed and must just be loaded:"
   ]
  },
  {
   "cell_type": "code",
   "execution_count": 129,
   "metadata": {},
   "outputs": [],
   "source": [
    "library(httr)\n",
    "library(jsonlite)\n",
    "library(xml2)"
   ]
  },
  {
   "cell_type": "markdown",
   "metadata": {},
   "source": [
    "Each UTS session includes three steps:\n",
    "\n",
    "1. Using your API key to obtain a Ticket Granting Ticket (TGT), which is good for 8 hours.\n",
    "1. Use the TGT to obtain a single use Server Ticket (ST), which is good for 1 call within the next 5 minutes.\n",
    "1. Use the ST to make a single API call.\n",
    "\n",
    "In this session, we will develop a Python class to manage this, so that you merely need to make API calls."
   ]
  },
  {
   "cell_type": "markdown",
   "metadata": {},
   "source": [
    "## Step 1 - obtain a Ticket Granting Ticket (TGT)\n",
    "\n",
    "Let's do the first step manually, and obtain a Ticket Granting Ticket (TGT), first.\n",
    "\n",
    "Below, we will:\n",
    "* Do a POST to https://utslogin.nlm.nih.gov/cas/v1/api-key, passing our API Key as data to the call.\n",
    "* Interpret the results as HTML.\n",
    "* Parse the TGT from the HTML.\n",
    "\n",
    "First, let's get the results and show the status code and content type:"
   ]
  },
  {
   "cell_type": "code",
   "execution_count": 130,
   "metadata": {},
   "outputs": [
    {
     "data": {
      "text/html": [
       "201"
      ],
      "text/latex": [
       "201"
      ],
      "text/markdown": [
       "201"
      ],
      "text/plain": [
       "[1] 201"
      ]
     },
     "metadata": {},
     "output_type": "display_data"
    },
    {
     "data": {
      "text/html": [
       "'text/html;charset=UTF-8'"
      ],
      "text/latex": [
       "'text/html;charset=UTF-8'"
      ],
      "text/markdown": [
       "'text/html;charset=UTF-8'"
      ],
      "text/plain": [
       "[1] \"text/html;charset=UTF-8\""
      ]
     },
     "metadata": {},
     "output_type": "display_data"
    }
   ],
   "source": [
    "# post to the CAS endpoint\n",
    "response <- POST('https://utslogin.nlm.nih.gov/cas/v1/api-key', encode='form', body=list(apikey = apikey))\n",
    "\n",
    "# print out the status_code and content_type\n",
    "status_code(response)\n",
    "headers(response)$`content-type`"
   ]
  },
  {
   "cell_type": "markdown",
   "metadata": {},
   "source": [
    "R will automatically parse this as XML.   We need to do some XPath processing on the XML document to get the TGT"
   ]
  },
  {
   "cell_type": "code",
   "execution_count": 131,
   "metadata": {},
   "outputs": [
    {
     "data": {
      "text/html": [
       "'https://utslogin.nlm.nih.gov/cas/v1/api-key/TGT-1941074-KrQoHJQtb2HSTQYaRmaEYG0nEZmB74211HltgJXIBir2A9gCmV-cas'"
      ],
      "text/latex": [
       "'https://utslogin.nlm.nih.gov/cas/v1/api-key/TGT-1941074-KrQoHJQtb2HSTQYaRmaEYG0nEZmB74211HltgJXIBir2A9gCmV-cas'"
      ],
      "text/markdown": [
       "'https://utslogin.nlm.nih.gov/cas/v1/api-key/TGT-1941074-KrQoHJQtb2HSTQYaRmaEYG0nEZmB74211HltgJXIBir2A9gCmV-cas'"
      ],
      "text/plain": [
       "[1] \"https://utslogin.nlm.nih.gov/cas/v1/api-key/TGT-1941074-KrQoHJQtb2HSTQYaRmaEYG0nEZmB74211HltgJXIBir2A9gCmV-cas\""
      ]
     },
     "metadata": {},
     "output_type": "display_data"
    }
   ],
   "source": [
    "doc = content(response)\n",
    "action_uri = xml_text(xml_find_first(doc, '//form/@action'))\n",
    "action_uri"
   ]
  },
  {
   "cell_type": "markdown",
   "metadata": {},
   "source": [
    "Now that we have the TGT embedded in the Action URI above, let's move on to step 2:\n",
    "\n",
    "## Step 2 - obtain a Service Ticket (ST)\n",
    "\n",
    "We will do this by posting to the action_uri with the service URL http://umlsks.nlm.nih.gov."
   ]
  },
  {
   "cell_type": "code",
   "execution_count": 132,
   "metadata": {},
   "outputs": [
    {
     "data": {
      "text/html": [
       "'ST-16047140-xBZsCK4XdxzUcgtr1QQu-cas'"
      ],
      "text/latex": [
       "'ST-16047140-xBZsCK4XdxzUcgtr1QQu-cas'"
      ],
      "text/markdown": [
       "'ST-16047140-xBZsCK4XdxzUcgtr1QQu-cas'"
      ],
      "text/plain": [
       "[1] \"ST-16047140-xBZsCK4XdxzUcgtr1QQu-cas\""
      ]
     },
     "metadata": {},
     "output_type": "display_data"
    }
   ],
   "source": [
    "response <- POST(action_uri, encode='form', body=list(service = 'http://umlsks.nlm.nih.gov'))\n",
    "## R tries to automatically guess the body content type, let's tell it this is pure text\n",
    "ticket = content(response, 'text')\n",
    "ticket"
   ]
  },
  {
   "cell_type": "markdown",
   "metadata": {},
   "source": [
    "## Step 3 - make an API call with the Service Ticket (ST)\n",
    "\n",
    "In this example, we will lookup the CUI by name for diabetic foot.\n",
    "\n",
    "* We will submit a get request to https://uts-ws.nlm.nih.gov/rest/search/current\n",
    "* The `ticket` parameter will be the service ticket (ST) obtained above\n",
    "* The `search` parameter will be the text we want to search for\n",
    "* The `searchType` will be equal to \"exact\""
   ]
  },
  {
   "cell_type": "code",
   "execution_count": 133,
   "metadata": {},
   "outputs": [
    {
     "data": {
      "text/html": [
       "'https://uts-ws.nlm.nih.gov/rest/search/current'"
      ],
      "text/latex": [
       "'https://uts-ws.nlm.nih.gov/rest/search/current'"
      ],
      "text/markdown": [
       "'https://uts-ws.nlm.nih.gov/rest/search/current'"
      ],
      "text/plain": [
       "[1] \"https://uts-ws.nlm.nih.gov/rest/search/current\""
      ]
     },
     "metadata": {},
     "output_type": "display_data"
    },
    {
     "data": {
      "text/html": [
       "200"
      ],
      "text/latex": [
       "200"
      ],
      "text/markdown": [
       "200"
      ],
      "text/plain": [
       "[1] 200"
      ]
     },
     "metadata": {},
     "output_type": "display_data"
    },
    {
     "data": {
      "text/html": [
       "'application/json;charset=UTF-8'"
      ],
      "text/latex": [
       "'application/json;charset=UTF-8'"
      ],
      "text/markdown": [
       "'application/json;charset=UTF-8'"
      ],
      "text/plain": [
       "[1] \"application/json;charset=UTF-8\""
      ]
     },
     "metadata": {},
     "output_type": "display_data"
    }
   ],
   "source": [
    "# build search_uri using the paste function for string concatenation\n",
    "version = 'current'\n",
    "search_uri = paste('https://uts-ws.nlm.nih.gov/rest/search/', version, sep='')\n",
    "\n",
    "# pass the the query params into httr GET to get the response \n",
    "query_string = 'diabetic foot'\n",
    "response <- GET(search_uri, query=list(ticket=ticket, string=query_string, searchType='exact'))\n",
    "\n",
    "## print out some of the results\n",
    "search_uri\n",
    "status_code(response)\n",
    "headers(response)$`content-type`"
   ]
  },
  {
   "cell_type": "code",
   "execution_count": 167,
   "metadata": {},
   "outputs": [
    {
     "data": {
      "text/html": [
       "<dl>\n",
       "\t<dt>$pageSize</dt>\n",
       "\t\t<dd>25</dd>\n",
       "\t<dt>$pageNumber</dt>\n",
       "\t\t<dd>1</dd>\n",
       "\t<dt>$result</dt>\n",
       "\t\t<dd><dl>\n",
       "\t<dt>$classType</dt>\n",
       "\t\t<dd>'searchResults'</dd>\n",
       "\t<dt>$results</dt>\n",
       "\t\t<dd><ol>\n",
       "\t<li><dl>\n",
       "\t<dt>$ui</dt>\n",
       "\t\t<dd>'C0206172'</dd>\n",
       "\t<dt>$rootSource</dt>\n",
       "\t\t<dd>'MTH'</dd>\n",
       "\t<dt>$uri</dt>\n",
       "\t\t<dd>'https://uts-ws.nlm.nih.gov/rest/content/2017AB/CUI/C0206172'</dd>\n",
       "\t<dt>$name</dt>\n",
       "\t\t<dd>'Diabetic Foot'</dd>\n",
       "</dl>\n",
       "</li>\n",
       "</ol>\n",
       "</dd>\n",
       "</dl>\n",
       "</dd>\n",
       "</dl>\n"
      ],
      "text/latex": [
       "\\begin{description}\n",
       "\\item[\\$pageSize] 25\n",
       "\\item[\\$pageNumber] 1\n",
       "\\item[\\$result] \\begin{description}\n",
       "\\item[\\$classType] 'searchResults'\n",
       "\\item[\\$results] \\begin{enumerate}\n",
       "\\item \\begin{description}\n",
       "\\item[\\$ui] 'C0206172'\n",
       "\\item[\\$rootSource] 'MTH'\n",
       "\\item[\\$uri] 'https://uts-ws.nlm.nih.gov/rest/content/2017AB/CUI/C0206172'\n",
       "\\item[\\$name] 'Diabetic Foot'\n",
       "\\end{description}\n",
       "\n",
       "\\end{enumerate}\n",
       "\n",
       "\\end{description}\n",
       "\n",
       "\\end{description}\n"
      ],
      "text/markdown": [
       "$pageSize\n",
       ":   25\n",
       "$pageNumber\n",
       ":   1\n",
       "$result\n",
       ":   $classType\n",
       ":   'searchResults'\n",
       "$results\n",
       ":   1. $ui\n",
       ":   'C0206172'\n",
       "$rootSource\n",
       ":   'MTH'\n",
       "$uri\n",
       ":   'https://uts-ws.nlm.nih.gov/rest/content/2017AB/CUI/C0206172'\n",
       "$name\n",
       ":   'Diabetic Foot'\n",
       "\n",
       "\n",
       "\n",
       "\n",
       "\n",
       "\n",
       "\n",
       "\n",
       "\n",
       "\n",
       "\n"
      ],
      "text/plain": [
       "$pageSize\n",
       "[1] 25\n",
       "\n",
       "$pageNumber\n",
       "[1] 1\n",
       "\n",
       "$result\n",
       "$result$classType\n",
       "[1] \"searchResults\"\n",
       "\n",
       "$result$results\n",
       "$result$results[[1]]\n",
       "$result$results[[1]]$ui\n",
       "[1] \"C0206172\"\n",
       "\n",
       "$result$results[[1]]$rootSource\n",
       "[1] \"MTH\"\n",
       "\n",
       "$result$results[[1]]$uri\n",
       "[1] \"https://uts-ws.nlm.nih.gov/rest/content/2017AB/CUI/C0206172\"\n",
       "\n",
       "$result$results[[1]]$name\n",
       "[1] \"Diabetic Foot\"\n",
       "\n",
       "\n",
       "\n"
      ]
     },
     "metadata": {},
     "output_type": "display_data"
    }
   ],
   "source": [
    "search_results_auto_parsed = content(response)\n",
    "search_results_auto_parsed"
   ]
  },
  {
   "cell_type": "markdown",
   "metadata": {},
   "source": [
    "So, the JSON parsing here is pretty basic, and the class of our results is a list:"
   ]
  },
  {
   "cell_type": "code",
   "execution_count": 182,
   "metadata": {},
   "outputs": [
    {
     "data": {
      "text/html": [
       "'list'"
      ],
      "text/latex": [
       "'list'"
      ],
      "text/markdown": [
       "'list'"
      ],
      "text/plain": [
       "[1] \"list\""
      ]
     },
     "metadata": {},
     "output_type": "display_data"
    }
   ],
   "source": [
    "class(search_results_auto_parsed$result$results)"
   ]
  },
  {
   "cell_type": "markdown",
   "metadata": {},
   "source": [
    "For this simple result, that's fine, but suppose we are using R to call NCBI E-utilities or something.   An alternative is to use the jsonlite libraries `fromLite` function to parse it out as a dataframe:"
   ]
  },
  {
   "cell_type": "code",
   "execution_count": 171,
   "metadata": {},
   "outputs": [
    {
     "data": {
      "text/html": [
       "<dl>\n",
       "\t<dt>$pageSize</dt>\n",
       "\t\t<dd>25</dd>\n",
       "\t<dt>$pageNumber</dt>\n",
       "\t\t<dd>1</dd>\n",
       "\t<dt>$result</dt>\n",
       "\t\t<dd><dl>\n",
       "\t<dt>$classType</dt>\n",
       "\t\t<dd>'searchResults'</dd>\n",
       "\t<dt>$results</dt>\n",
       "\t\t<dd><table>\n",
       "<thead><tr><th scope=col>ui</th><th scope=col>rootSource</th><th scope=col>uri</th><th scope=col>name</th></tr></thead>\n",
       "<tbody>\n",
       "\t<tr><td>C0206172                                                   </td><td>MTH                                                        </td><td>https://uts-ws.nlm.nih.gov/rest/content/2017AB/CUI/C0206172</td><td>Diabetic Foot                                              </td></tr>\n",
       "</tbody>\n",
       "</table>\n",
       "</dd>\n",
       "</dl>\n",
       "</dd>\n",
       "</dl>\n"
      ],
      "text/latex": [
       "\\begin{description}\n",
       "\\item[\\$pageSize] 25\n",
       "\\item[\\$pageNumber] 1\n",
       "\\item[\\$result] \\begin{description}\n",
       "\\item[\\$classType] 'searchResults'\n",
       "\\item[\\$results] \\begin{tabular}{r|llll}\n",
       " ui & rootSource & uri & name\\\\\n",
       "\\hline\n",
       "\t C0206172                                                    & MTH                                                         & https://uts-ws.nlm.nih.gov/rest/content/2017AB/CUI/C0206172 & Diabetic Foot                                              \\\\\n",
       "\\end{tabular}\n",
       "\n",
       "\\end{description}\n",
       "\n",
       "\\end{description}\n"
      ],
      "text/markdown": [
       "$pageSize\n",
       ":   25\n",
       "$pageNumber\n",
       ":   1\n",
       "$result\n",
       ":   $classType\n",
       ":   'searchResults'\n",
       "$results\n",
       ":   \n",
       "ui | rootSource | uri | name | \n",
       "|---|\n",
       "| C0206172                                                    | MTH                                                         | https://uts-ws.nlm.nih.gov/rest/content/2017AB/CUI/C0206172 | Diabetic Foot                                               | \n",
       "\n",
       "\n",
       "\n",
       "\n",
       "\n",
       "\n",
       "\n",
       "\n"
      ],
      "text/plain": [
       "$pageSize\n",
       "[1] 25\n",
       "\n",
       "$pageNumber\n",
       "[1] 1\n",
       "\n",
       "$result\n",
       "$result$classType\n",
       "[1] \"searchResults\"\n",
       "\n",
       "$result$results\n",
       "        ui rootSource\n",
       "1 C0206172        MTH\n",
       "                                                          uri          name\n",
       "1 https://uts-ws.nlm.nih.gov/rest/content/2017AB/CUI/C0206172 Diabetic Foot\n",
       "\n"
      ]
     },
     "metadata": {},
     "output_type": "display_data"
    },
    {
     "data": {
      "text/html": [
       "'data.frame'"
      ],
      "text/latex": [
       "'data.frame'"
      ],
      "text/markdown": [
       "'data.frame'"
      ],
      "text/plain": [
       "[1] \"data.frame\""
      ]
     },
     "metadata": {},
     "output_type": "display_data"
    }
   ],
   "source": [
    "search_results_data_frame = fromJSON(content(response,'text'))\n",
    "search_results_data_frame\n",
    "class(search_results_data_frame$result$results)"
   ]
  },
  {
   "cell_type": "markdown",
   "metadata": {},
   "source": [
    "## Additional API calls\n",
    "\n",
    "Whether you choose to use lists of lists or dataframes, you are going to want to call APIs on the results.  Once you've obtained the ticket granting ticket (TGT), above embeddded in our `action_uri`, you need to perform Step 2 and then 3 for each API call.  Below, we parse a URI out of the first result returnned above and retrieve its data using a new ticket.\n",
    "\n",
    "To do this, let's make a function that gets a new ticket, and then retrieves a URI:"
   ]
  },
  {
   "cell_type": "code",
   "execution_count": 178,
   "metadata": {},
   "outputs": [],
   "source": [
    "get_uts_data = function(uri, query=list()) {\n",
    "    st_response = POST(action_uri, encode='form', body=list(service = 'http://umlsks.nlm.nih.gov'))\n",
    "    query['ticket'] = content(st_response,'text')\n",
    "    content(GET(uri, query=query))\n",
    "}"
   ]
  },
  {
   "cell_type": "markdown",
   "metadata": {},
   "source": [
    "Now let's apply that function to the uri of each CUI in the result above:"
   ]
  },
  {
   "cell_type": "code",
   "execution_count": 193,
   "metadata": {},
   "outputs": [
    {
     "data": {
      "text/html": [
       "<ol>\n",
       "\t<li><dl>\n",
       "\t<dt>$pageSize</dt>\n",
       "\t\t<dd>25</dd>\n",
       "\t<dt>$pageNumber</dt>\n",
       "\t\t<dd>1</dd>\n",
       "\t<dt>$pageCount</dt>\n",
       "\t\t<dd>1</dd>\n",
       "\t<dt>$result</dt>\n",
       "\t\t<dd><dl>\n",
       "\t<dt>$classType</dt>\n",
       "\t\t<dd>'Concept'</dd>\n",
       "\t<dt>$ui</dt>\n",
       "\t\t<dd>'C0206172'</dd>\n",
       "\t<dt>$suppressible</dt>\n",
       "\t\t<dd>FALSE</dd>\n",
       "\t<dt>$dateAdded</dt>\n",
       "\t\t<dd>'04-12-1994'</dd>\n",
       "\t<dt>$majorRevisionDate</dt>\n",
       "\t\t<dd>'03-08-2013'</dd>\n",
       "\t<dt>$status</dt>\n",
       "\t\t<dd>'R'</dd>\n",
       "\t<dt>$semanticTypes</dt>\n",
       "\t\t<dd><ol>\n",
       "\t<li><dl>\n",
       "\t<dt>$name</dt>\n",
       "\t\t<dd>'Disease or Syndrome'</dd>\n",
       "\t<dt>$uri</dt>\n",
       "\t\t<dd>'https://uts-ws.nlm.nih.gov/rest/semantic-network/2017AB/TUI/T047'</dd>\n",
       "</dl>\n",
       "</li>\n",
       "</ol>\n",
       "</dd>\n",
       "\t<dt>$atomCount</dt>\n",
       "\t\t<dd>76</dd>\n",
       "\t<dt>$attributeCount</dt>\n",
       "\t\t<dd>0</dd>\n",
       "\t<dt>$cvMemberCount</dt>\n",
       "\t\t<dd>0</dd>\n",
       "\t<dt>$atoms</dt>\n",
       "\t\t<dd>'https://uts-ws.nlm.nih.gov/rest/content/2017AB/CUI/C0206172/atoms'</dd>\n",
       "\t<dt>$definitions</dt>\n",
       "\t\t<dd>'https://uts-ws.nlm.nih.gov/rest/content/2017AB/CUI/C0206172/definitions'</dd>\n",
       "\t<dt>$relations</dt>\n",
       "\t\t<dd>'NONE'</dd>\n",
       "\t<dt>$defaultPreferredAtom</dt>\n",
       "\t\t<dd>'https://uts-ws.nlm.nih.gov/rest/content/2017AB/CUI/C0206172/atoms/preferred'</dd>\n",
       "\t<dt>$relationCount</dt>\n",
       "\t\t<dd>0</dd>\n",
       "\t<dt>$name</dt>\n",
       "\t\t<dd>'Diabetic Foot'</dd>\n",
       "</dl>\n",
       "</dd>\n",
       "</dl>\n",
       "</li>\n",
       "</ol>\n"
      ],
      "text/latex": [
       "\\begin{enumerate}\n",
       "\\item \\begin{description}\n",
       "\\item[\\$pageSize] 25\n",
       "\\item[\\$pageNumber] 1\n",
       "\\item[\\$pageCount] 1\n",
       "\\item[\\$result] \\begin{description}\n",
       "\\item[\\$classType] 'Concept'\n",
       "\\item[\\$ui] 'C0206172'\n",
       "\\item[\\$suppressible] FALSE\n",
       "\\item[\\$dateAdded] '04-12-1994'\n",
       "\\item[\\$majorRevisionDate] '03-08-2013'\n",
       "\\item[\\$status] 'R'\n",
       "\\item[\\$semanticTypes] \\begin{enumerate}\n",
       "\\item \\begin{description}\n",
       "\\item[\\$name] 'Disease or Syndrome'\n",
       "\\item[\\$uri] 'https://uts-ws.nlm.nih.gov/rest/semantic-network/2017AB/TUI/T047'\n",
       "\\end{description}\n",
       "\n",
       "\\end{enumerate}\n",
       "\n",
       "\\item[\\$atomCount] 76\n",
       "\\item[\\$attributeCount] 0\n",
       "\\item[\\$cvMemberCount] 0\n",
       "\\item[\\$atoms] 'https://uts-ws.nlm.nih.gov/rest/content/2017AB/CUI/C0206172/atoms'\n",
       "\\item[\\$definitions] 'https://uts-ws.nlm.nih.gov/rest/content/2017AB/CUI/C0206172/definitions'\n",
       "\\item[\\$relations] 'NONE'\n",
       "\\item[\\$defaultPreferredAtom] 'https://uts-ws.nlm.nih.gov/rest/content/2017AB/CUI/C0206172/atoms/preferred'\n",
       "\\item[\\$relationCount] 0\n",
       "\\item[\\$name] 'Diabetic Foot'\n",
       "\\end{description}\n",
       "\n",
       "\\end{description}\n",
       "\n",
       "\\end{enumerate}\n"
      ],
      "text/markdown": [
       "1. $pageSize\n",
       ":   25\n",
       "$pageNumber\n",
       ":   1\n",
       "$pageCount\n",
       ":   1\n",
       "$result\n",
       ":   $classType\n",
       ":   'Concept'\n",
       "$ui\n",
       ":   'C0206172'\n",
       "$suppressible\n",
       ":   FALSE\n",
       "$dateAdded\n",
       ":   '04-12-1994'\n",
       "$majorRevisionDate\n",
       ":   '03-08-2013'\n",
       "$status\n",
       ":   'R'\n",
       "$semanticTypes\n",
       ":   1. $name\n",
       ":   'Disease or Syndrome'\n",
       "$uri\n",
       ":   'https://uts-ws.nlm.nih.gov/rest/semantic-network/2017AB/TUI/T047'\n",
       "\n",
       "\n",
       "\n",
       "\n",
       "\n",
       "\n",
       "$atomCount\n",
       ":   76\n",
       "$attributeCount\n",
       ":   0\n",
       "$cvMemberCount\n",
       ":   0\n",
       "$atoms\n",
       ":   'https://uts-ws.nlm.nih.gov/rest/content/2017AB/CUI/C0206172/atoms'\n",
       "$definitions\n",
       ":   'https://uts-ws.nlm.nih.gov/rest/content/2017AB/CUI/C0206172/definitions'\n",
       "$relations\n",
       ":   'NONE'\n",
       "$defaultPreferredAtom\n",
       ":   'https://uts-ws.nlm.nih.gov/rest/content/2017AB/CUI/C0206172/atoms/preferred'\n",
       "$relationCount\n",
       ":   0\n",
       "$name\n",
       ":   'Diabetic Foot'\n",
       "\n",
       "\n",
       "\n",
       "\n",
       "\n",
       "\n",
       "\n",
       "\n"
      ],
      "text/plain": [
       "[[1]]\n",
       "[[1]]$pageSize\n",
       "[1] 25\n",
       "\n",
       "[[1]]$pageNumber\n",
       "[1] 1\n",
       "\n",
       "[[1]]$pageCount\n",
       "[1] 1\n",
       "\n",
       "[[1]]$result\n",
       "[[1]]$result$classType\n",
       "[1] \"Concept\"\n",
       "\n",
       "[[1]]$result$ui\n",
       "[1] \"C0206172\"\n",
       "\n",
       "[[1]]$result$suppressible\n",
       "[1] FALSE\n",
       "\n",
       "[[1]]$result$dateAdded\n",
       "[1] \"04-12-1994\"\n",
       "\n",
       "[[1]]$result$majorRevisionDate\n",
       "[1] \"03-08-2013\"\n",
       "\n",
       "[[1]]$result$status\n",
       "[1] \"R\"\n",
       "\n",
       "[[1]]$result$semanticTypes\n",
       "[[1]]$result$semanticTypes[[1]]\n",
       "[[1]]$result$semanticTypes[[1]]$name\n",
       "[1] \"Disease or Syndrome\"\n",
       "\n",
       "[[1]]$result$semanticTypes[[1]]$uri\n",
       "[1] \"https://uts-ws.nlm.nih.gov/rest/semantic-network/2017AB/TUI/T047\"\n",
       "\n",
       "\n",
       "\n",
       "[[1]]$result$atomCount\n",
       "[1] 76\n",
       "\n",
       "[[1]]$result$attributeCount\n",
       "[1] 0\n",
       "\n",
       "[[1]]$result$cvMemberCount\n",
       "[1] 0\n",
       "\n",
       "[[1]]$result$atoms\n",
       "[1] \"https://uts-ws.nlm.nih.gov/rest/content/2017AB/CUI/C0206172/atoms\"\n",
       "\n",
       "[[1]]$result$definitions\n",
       "[1] \"https://uts-ws.nlm.nih.gov/rest/content/2017AB/CUI/C0206172/definitions\"\n",
       "\n",
       "[[1]]$result$relations\n",
       "[1] \"NONE\"\n",
       "\n",
       "[[1]]$result$defaultPreferredAtom\n",
       "[1] \"https://uts-ws.nlm.nih.gov/rest/content/2017AB/CUI/C0206172/atoms/preferred\"\n",
       "\n",
       "[[1]]$result$relationCount\n",
       "[1] 0\n",
       "\n",
       "[[1]]$result$name\n",
       "[1] \"Diabetic Foot\"\n",
       "\n",
       "\n"
      ]
     },
     "metadata": {},
     "output_type": "display_data"
    }
   ],
   "source": [
    "lapply(search_results_auto_parsed$result$results, function(r){ get_uts_data(r$uri) })"
   ]
  },
  {
   "cell_type": "markdown",
   "metadata": {},
   "source": [
    "## Conclusion\n",
    "\n",
    "There's a lot more we can do with this, and dress it up to be a real SDK.  We could add support for long-living code, and regenerate the TGT, that is, the action URI, if there was an error.  We can add some code to pull error messages from HTML content.   We'll leave that to you, but assure you that the authorization "
   ]
  }
 ],
 "metadata": {
  "kernelspec": {
   "display_name": "R",
   "language": "R",
   "name": "ir"
  },
  "language_info": {
   "codemirror_mode": "r",
   "file_extension": ".r",
   "mimetype": "text/x-r-source",
   "name": "R",
   "pygments_lexer": "r",
   "version": "3.3.2"
  },
  "varInspector": {
   "cols": {
    "lenName": 16,
    "lenType": 16,
    "lenVar": 40
   },
   "kernels_config": {
    "python": {
     "delete_cmd_postfix": "",
     "delete_cmd_prefix": "del ",
     "library": "var_list.py",
     "varRefreshCmd": "print(var_dic_list())"
    },
    "r": {
     "delete_cmd_postfix": ") ",
     "delete_cmd_prefix": "rm(",
     "library": "var_list.r",
     "varRefreshCmd": "cat(var_dic_list()) "
    }
   },
   "position": {
    "height": "144px",
    "left": "860px",
    "right": "20px",
    "top": "120px",
    "width": "350px"
   },
   "types_to_exclude": [
    "module",
    "function",
    "builtin_function_or_method",
    "instance",
    "_Feature"
   ],
   "window_display": false
  }
 },
 "nbformat": 4,
 "nbformat_minor": 2
}
