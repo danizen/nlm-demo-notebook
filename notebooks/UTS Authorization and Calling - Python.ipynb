{
 "cells": [
  {
   "cell_type": "markdown",
   "metadata": {
    "deletable": false,
    "editable": false,
    "run_control": {
     "frozen": true
    }
   },
   "source": [
    "# UTS Authorization and Calling - Python\n",
    "\n",
    "This notebook is an example of how to start using the UTS REST API from Python 3+"
   ]
  },
  {
   "cell_type": "markdown",
   "metadata": {},
   "source": [
    "## UTS Account\n",
    "If you do not have a UTS account:\n",
    "\n",
    "* You will need to wait for an account to be activated before following this guide.\n",
    "* Create a bookmark of this page, or [click here](#) to schedule a reminder.\n",
    "* Follow this link to Sign-up for a [UTS License](https://uts.nlm.nih.gov/license.html).\n",
    "\n",
    "## UTS API Key\n",
    "You will need your UTS API key.  To obtain your key:\n",
    "\n",
    "* In a new window, open the [UTS login](https://uts.nlm.nih.gov//uts.html) page.\n",
    "* Once you have logged in, click on `My Profile` and copy your API key into the cell below.\n"
   ]
  },
  {
   "cell_type": "code",
   "execution_count": 194,
   "metadata": {},
   "outputs": [],
   "source": [
    "UTS_API_KEY = 'XXXXXXXX-XXXX-XXXX-XXXX-XXXXXXXXXXXX'"
   ]
  },
  {
   "cell_type": "markdown",
   "metadata": {},
   "source": [
    "You'll some basic Python packages to follow the API:"
   ]
  },
  {
   "cell_type": "code",
   "execution_count": 185,
   "metadata": {},
   "outputs": [],
   "source": [
    "import requests\n",
    "from lxml import html as lhtml\n",
    "from urllib.parse import urlencode, urlsplit, urlunsplit"
   ]
  },
  {
   "cell_type": "markdown",
   "metadata": {},
   "source": [
    "Each UTS session includes three steps:\n",
    "\n",
    "1. Using your API key to obtain a Ticket Granting Ticket (TGT), which is good for 8 hours.\n",
    "1. Use the TGT to obtain a single use Server Ticket (ST), which is good for 1 call within the next 5 minutes.\n",
    "1. Use the ST to make a single API call.\n",
    "\n",
    "In this session, we will develop a Python class to manage this, so that you merely need to make API calls."
   ]
  },
  {
   "cell_type": "markdown",
   "metadata": {},
   "source": [
    "## Step 1 - obtain a Ticket Granting Ticket (TGT)\n",
    "\n",
    "Let's do the first step manually, and obtain a Ticket Granting Ticket (TGT), first.\n",
    "\n",
    "Below, we will:\n",
    "* Do a POST to https://utslogin.nlm.nih.gov/cas/v1/api-key, passing our API Key as data to the call.\n",
    "* Interpret the results as HTML.\n",
    "* Parse the TGT from the HTML.\n",
    "\n",
    "First, let's get the results and show the status code and content type:"
   ]
  },
  {
   "cell_type": "code",
   "execution_count": 186,
   "metadata": {},
   "outputs": [
    {
     "data": {
      "text/plain": [
       "(201, 'text/html;charset=UTF-8')"
      ]
     },
     "execution_count": 186,
     "metadata": {},
     "output_type": "execute_result"
    }
   ],
   "source": [
    "session = requests.session()\n",
    "response = session.post('https://utslogin.nlm.nih.gov/cas/v1/api-key', data={'apikey': UTS_API_KEY})\n",
    "response.status_code, response.headers['Content-Type']"
   ]
  },
  {
   "cell_type": "markdown",
   "metadata": {},
   "source": [
    "Now, we'll parse that as HTML and extract the TGT From the URL"
   ]
  },
  {
   "cell_type": "code",
   "execution_count": 187,
   "metadata": {},
   "outputs": [
    {
     "data": {
      "text/plain": [
       "'https://utslogin.nlm.nih.gov/cas/v1/api-key/TGT-9403-OvYn3eeCUwTYEG9SIuqdQIWvShL0qzdIbLSF9KPspqsdJYqEK7-cas'"
      ]
     },
     "execution_count": 187,
     "metadata": {},
     "output_type": "execute_result"
    }
   ],
   "source": [
    "doc = lhtml.fromstring(response.text)\n",
    "action_uri = doc.xpath(\"//form/@action\")[0]\n",
    "action_uri"
   ]
  },
  {
   "cell_type": "markdown",
   "metadata": {},
   "source": [
    "Now that we have the TGT embedded in the Action URI above, let's move on to step 2:\n",
    "\n",
    "## Step 2 - obtain a Service Ticket (ST)\n",
    "\n",
    "We will do this by posting to the action_uri with the service URL http://umlsks.nlm.nih.gov."
   ]
  },
  {
   "cell_type": "code",
   "execution_count": 188,
   "metadata": {},
   "outputs": [
    {
     "data": {
      "text/plain": [
       "'ST-104315-cTuEsT6qYwZUAKPAblFn-cas'"
      ]
     },
     "execution_count": 188,
     "metadata": {},
     "output_type": "execute_result"
    }
   ],
   "source": [
    "r = session.post(action_uri, data={'service': 'http://umlsks.nlm.nih.gov'})\n",
    "ticket = r.text\n",
    "ticket"
   ]
  },
  {
   "cell_type": "markdown",
   "metadata": {},
   "source": [
    "## Step 3 - make an API call with the Service Ticket (ST)\n",
    "\n",
    "In this example, we will lookup the CUI by name for diabetic foot.\n",
    "\n",
    "* We will submit a get request to https://uts-ws.nlm.nih.gov/rest/search/current\n",
    "* The `ticket` parameter will be the service ticket (ST) obtained above\n",
    "* The `search` parameter will be the text we want to search for\n",
    "* The `searchType` will be equal to \"exact\""
   ]
  },
  {
   "cell_type": "code",
   "execution_count": 189,
   "metadata": {},
   "outputs": [
    {
     "data": {
      "text/plain": [
       "('https://uts-ws.nlm.nih.gov/rest/search/current/?ticket=ST-104315-cTuEsT6qYwZUAKPAblFn-cas&string=diabetic foot&searchType=exact',\n",
       " <Response [200]>,\n",
       " 'application/json;charset=UTF-8')"
      ]
     },
     "execution_count": 189,
     "metadata": {},
     "output_type": "execute_result"
    }
   ],
   "source": [
    "version = 'current'\n",
    "query_string = 'diabetic foot'\n",
    "base_search_uri = 'https://uts-ws.nlm.nih.gov/rest/search/%s' % version\n",
    "search_uri = '%s/?ticket=%s&string=%s&searchType=exact' % (base_search_uri, ticket, query_string)\n",
    "r = requests.get(search_uri)\n",
    "search_uri, r, r.headers['Content-Type']\n"
   ]
  },
  {
   "cell_type": "code",
   "execution_count": 190,
   "metadata": {},
   "outputs": [
    {
     "data": {
      "text/plain": [
       "{'pageNumber': 1,\n",
       " 'pageSize': 25,\n",
       " 'result': {'classType': 'searchResults',\n",
       "  'results': [{'name': 'Diabetic Foot',\n",
       "    'rootSource': 'MTH',\n",
       "    'ui': 'C0206172',\n",
       "    'uri': 'https://uts-ws.nlm.nih.gov/rest/content/2017AB/CUI/C0206172'}]}}"
      ]
     },
     "execution_count": 190,
     "metadata": {},
     "output_type": "execute_result"
    }
   ],
   "source": [
    "r.json()"
   ]
  },
  {
   "cell_type": "markdown",
   "metadata": {},
   "source": [
    "## Making this better\n",
    "\n",
    "Of course, we cannot proceed with this API pattern without some abstraction - let us build an authentication class which will obtain the ST as needed.  Our goal is to be able to make requests without impediment, where for GET requests, a ticket parameter will be added to the URL, and for POST requests, the ticket will be added to the body.  So, we wish this to look no different than requests session object, having methods such as `post()` and `get()`.\n",
    "\n",
    "This is a big step - we are using pythonic decorators like `@property` to do lazy initialization, and writing a wrapper class without any tests to make sure it works.   Don't worry if this is a little bit complex - the main point here is that you should wrap the UTS REST API so that adding the TGT and ST are pretty much invisible, and you should:"
   ]
  },
  {
   "cell_type": "code",
   "execution_count": 191,
   "metadata": {},
   "outputs": [],
   "source": [
    "from pprint import pprint\n",
    "\n",
    "class AuthenticatedSession(object):\n",
    "    \n",
    "    def __init__(self, apikey, tgt_uri=None, service_uri=None):\n",
    "        self.apikey = apikey;\n",
    "        self.tgt_uri = tgt_uri if tgt_uri is not None else 'https://utslogin.nlm.nih.gov/cas/v1/api-key'\n",
    "        self.service_uri = service_uri if service_uri is not None else 'http://umlsks.nlm.nih.gov'\n",
    "        \n",
    "        # Lazy initialization:\n",
    "        self.__session = None\n",
    "        self.__action_uri = None\n",
    "        \n",
    "    @property\n",
    "    def session(self):\n",
    "        \"\"\"\n",
    "        A requests session that we can access as self.session\n",
    "        \"\"\"\n",
    "        if self.__session is None:\n",
    "            self.__session = requests.session()\n",
    "        return self.__session\n",
    "        \n",
    "    @property\n",
    "    def action_uri(self):\n",
    "        \"\"\"\n",
    "        A way to memoize (remember) the tgt and uri as a property, accessible like self.action_uri\n",
    "        \"\"\"\n",
    "        if self.__action_uri is None:\n",
    "            self.__action_uri = self.get_action_uri()\n",
    "        return self.__action_uri\n",
    "    \n",
    "    def get_action_uri(self):\n",
    "        \"\"\"\n",
    "        This will get a TGT embedded in the URI\n",
    "        \"\"\"\n",
    "        response = self.session.post(self.tgt_uri, data={'apikey': self.apikey})\n",
    "        assert response.status_code == 201\n",
    "        doc = lhtml.fromstring(response.text)\n",
    "        actions = doc.xpath('//form/@action')\n",
    "        assert len(actions) > 0\n",
    "        return actions[0]\n",
    "        \n",
    "    def get_ticket(self):\n",
    "        \"\"\"\n",
    "        This can be used even without the wrapping get and post\n",
    "        \"\"\"\n",
    "        response = self.session.post(self.action_uri, data={'service': self.service_uri})\n",
    "        assert r.status_code == 200\n",
    "        return response.text\n",
    "    \n",
    "    def get(self, url, params=None, **kwargs):\n",
    "        if params is not None:\n",
    "            params['ticket'] = self.get_ticket()\n",
    "            kwargs['params'] = params\n",
    "        else:\n",
    "            uo = urlsplit(url)\n",
    "            if uo.query:\n",
    "                newquery += '%s&ticket=%s' % (uo.query, self.get_ticket())\n",
    "            else:\n",
    "                newquery = 'ticket=%s' % self.get_ticket()\n",
    "            url = urlunsplit((uo.scheme, uo.netloc, uo.path, newquery, uo.fragment))\n",
    "            \n",
    "        return self.session.get(url, **kwargs)\n",
    "    \n",
    "    def post(self, url, data=None, json=None, **kwargs):\n",
    "        if data is not None:\n",
    "            data['ticket'] = self.get_ticket()\n",
    "        elif json is not None:\n",
    "            json['ticket'] = self.get_ticket()\n",
    "        return self.__session.post(url, data, json, **kwargs)"
   ]
  },
  {
   "cell_type": "markdown",
   "metadata": {},
   "source": [
    "## Putting it all together\n",
    "Now we should be able to access the UTS APIs more simply using AuthenticatedSession() as a wrapper:"
   ]
  },
  {
   "cell_type": "code",
   "execution_count": 192,
   "metadata": {},
   "outputs": [
    {
     "data": {
      "text/plain": [
       "'ST-104497-69Md0NW7LgKOBxZiaPS7-cas'"
      ]
     },
     "execution_count": 192,
     "metadata": {},
     "output_type": "execute_result"
    }
   ],
   "source": [
    "session = AuthenticatedSession(apikey=UTS_API_KEY)\n",
    "session.get_ticket()\n"
   ]
  },
  {
   "cell_type": "markdown",
   "metadata": {},
   "source": [
    "Great!  This gets us tickets without us having to worry about the intervening ticket granting ticket (TGT) and the URI that includes it.   Furthermore, it should be able to wrap calls to the API.  Our previous search results included the content URI for a CUI connected with \"diabetic foot\", let's use our session wrapper to get that:"
   ]
  },
  {
   "cell_type": "code",
   "execution_count": 193,
   "metadata": {},
   "outputs": [
    {
     "data": {
      "text/plain": [
       "{'pageCount': 1,\n",
       " 'pageNumber': 1,\n",
       " 'pageSize': 25,\n",
       " 'result': {'atomCount': 76,\n",
       "  'atoms': 'https://uts-ws.nlm.nih.gov/rest/content/2017AB/CUI/C0206172/atoms',\n",
       "  'attributeCount': 0,\n",
       "  'classType': 'Concept',\n",
       "  'cvMemberCount': 0,\n",
       "  'dateAdded': '04-12-1994',\n",
       "  'defaultPreferredAtom': 'https://uts-ws.nlm.nih.gov/rest/content/2017AB/CUI/C0206172/atoms/preferred',\n",
       "  'definitions': 'https://uts-ws.nlm.nih.gov/rest/content/2017AB/CUI/C0206172/definitions',\n",
       "  'majorRevisionDate': '03-08-2013',\n",
       "  'name': 'Diabetic Foot',\n",
       "  'relationCount': 0,\n",
       "  'relations': 'NONE',\n",
       "  'semanticTypes': [{'name': 'Disease or Syndrome',\n",
       "    'uri': 'https://uts-ws.nlm.nih.gov/rest/semantic-network/2017AB/TUI/T047'}],\n",
       "  'status': 'R',\n",
       "  'suppressible': False,\n",
       "  'ui': 'C0206172'}}"
      ]
     },
     "execution_count": 193,
     "metadata": {},
     "output_type": "execute_result"
    }
   ],
   "source": [
    "response = session.get('https://uts-ws.nlm.nih.gov/rest/content/2017AB/CUI/C0206172')\n",
    "response.status_code == 200 and response.json()"
   ]
  },
  {
   "cell_type": "markdown",
   "metadata": {},
   "source": [
    "## Conclusion\n",
    "\n",
    "There's a lot more we can do with this, and dress it up to be a real SDK.  We could add support for long-living code, and regenerate the TGT, that is, the action URI, if there was an error.  We can add some code to pull error messages from HTML content.   We'll leave that to you, but assure you that the authorization "
   ]
  }
 ],
 "metadata": {
  "kernelspec": {
   "display_name": "Python 3",
   "language": "python",
   "name": "python3"
  },
  "language_info": {
   "codemirror_mode": {
    "name": "ipython",
    "version": 3
   },
   "file_extension": ".py",
   "mimetype": "text/x-python",
   "name": "python",
   "nbconvert_exporter": "python",
   "pygments_lexer": "ipython3",
   "version": "3.5.1"
  },
  "varInspector": {
   "cols": {
    "lenName": 16,
    "lenType": 16,
    "lenVar": 40
   },
   "kernels_config": {
    "python": {
     "delete_cmd_postfix": "",
     "delete_cmd_prefix": "del ",
     "library": "var_list.py",
     "varRefreshCmd": "print(var_dic_list())"
    },
    "r": {
     "delete_cmd_postfix": ") ",
     "delete_cmd_prefix": "rm(",
     "library": "var_list.r",
     "varRefreshCmd": "cat(var_dic_list()) "
    }
   },
   "types_to_exclude": [
    "module",
    "function",
    "builtin_function_or_method",
    "instance",
    "_Feature"
   ],
   "window_display": false
  }
 },
 "nbformat": 4,
 "nbformat_minor": 2
}
